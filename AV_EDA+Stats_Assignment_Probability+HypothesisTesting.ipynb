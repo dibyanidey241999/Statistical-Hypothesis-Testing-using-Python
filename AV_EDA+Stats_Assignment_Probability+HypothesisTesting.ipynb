{
 "cells": [
  {
   "cell_type": "markdown",
   "id": "9267c62d",
   "metadata": {},
   "source": [
    "1. The number of customer returns in a retail chain per day follows a Poisson distribution at a rate of 25 returns per day. \n",
    "\n",
    "Write Python code to answer the following questions: \n",
    "    \n",
    "    (a) Calculate the probability that the number of returns exceeds 30 in a day. \n",
    "    \n",
    "    (b) If the chance of fraudulent return is 0.05, calculate the probability that there will be at least 2 fraudulent returns in any given day."
   ]
  },
  {
   "cell_type": "code",
   "execution_count": 1,
   "id": "aa560936",
   "metadata": {},
   "outputs": [
    {
     "name": "stdout",
     "output_type": "stream",
     "text": [
      "The probability that the number of returns exceeds 30 in a day is =  0.1366911308473363\n"
     ]
    }
   ],
   "source": [
    "#1.(a).\n",
    "\n",
    "from scipy.stats import poisson\n",
    "\n",
    "x = 1-poisson.cdf(k=30, mu=25)\n",
    "                  \n",
    "print(\"The probability that the number of returns exceeds 30 in a day is = \", x)"
   ]
  },
  {
   "cell_type": "code",
   "execution_count": 2,
   "id": "1f26f867",
   "metadata": {},
   "outputs": [
    {
     "name": "stdout",
     "output_type": "stream",
     "text": [
      "The probability that the number of returns exceeds 30 in a day is =  0.04999999998194568\n"
     ]
    }
   ],
   "source": [
    "#1.(b).\n",
    "\n",
    "p = 0.05\n",
    "mu = 25\n",
    "\n",
    "x = (1-poisson.cdf(k=1, mu = 25))*0.05\n",
    "\n",
    "print(\"The probability that the number of returns exceeds 30 in a day is = \", x)"
   ]
  },
  {
   "cell_type": "code",
   "execution_count": null,
   "id": "b10e1583",
   "metadata": {},
   "outputs": [],
   "source": []
  },
  {
   "cell_type": "markdown",
   "id": "8664167a",
   "metadata": {},
   "source": [
    "2. A student is applying for Masters course in 8 US Universities and believes that she has in each of the eight universities a constant and independent 0.42 probability of getting selected. \n",
    "\n",
    "Write code to answer the following questions: \n",
    "    \n",
    "    (a) What is the probability that she will get call from at least 3 universities? \n",
    "    \n",
    "    (b) What is the probability that she will get calls from exactly 4 universities?"
   ]
  },
  {
   "cell_type": "code",
   "execution_count": 3,
   "id": "a709061e",
   "metadata": {},
   "outputs": [
    {
     "name": "stdout",
     "output_type": "stream",
     "text": [
      "The probability that she will get call from at least 3 universities is =  0.45265884031065606\n"
     ]
    }
   ],
   "source": [
    "#2.(a).\n",
    "\n",
    "from scipy.stats import binom\n",
    "\n",
    "x = 1-binom.cdf(k=3, n=8, p=0.42)\n",
    "\n",
    "print(\"The probability that she will get call from at least 3 universities is = \", x)"
   ]
  },
  {
   "cell_type": "code",
   "execution_count": 19,
   "id": "f7963724",
   "metadata": {},
   "outputs": [
    {
     "name": "stdout",
     "output_type": "stream",
     "text": [
      "The probability that she will get calls from exactly 4 universities is =  0.2464944673605121\n"
     ]
    }
   ],
   "source": [
    "#2.(b).\n",
    "\n",
    "from scipy.stats import binom\n",
    "\n",
    "x = binom.pmf(k=4, n=8, p=0.42)\n",
    "\n",
    "print(\"The probability that she will get calls from exactly 4 universities is = \", x)"
   ]
  },
  {
   "cell_type": "code",
   "execution_count": null,
   "id": "884b728d",
   "metadata": {},
   "outputs": [],
   "source": []
  },
  {
   "cell_type": "markdown",
   "id": "e6f3fa21",
   "metadata": {},
   "source": [
    "3. The time-of-failure of a machine follows exponential distribution with mean time between failures (MTBF) estimated to be 85 hrs.\n",
    "\n",
    "Write code to answer the following questions:\n",
    "\n",
    "    (a) Calculate the probability that the system will fail before 85 hrs.\n",
    "\n",
    "    (b) Calculate the probability that it will not fail up to 150 hrs. "
   ]
  },
  {
   "cell_type": "code",
   "execution_count": 17,
   "id": "c5d95b7a",
   "metadata": {},
   "outputs": [
    {
     "name": "stdout",
     "output_type": "stream",
     "text": [
      "The probability that the system will fail before 85 hrs is =  0.6320696377349755\n"
     ]
    }
   ],
   "source": [
    "#3.(a).\n",
    "\n",
    "from scipy.stats import expon \n",
    "\n",
    "MTBF = 85\n",
    "\n",
    "x = expon.cdf(MTBF, 1/MTBF, MTBF)\n",
    "\n",
    "print(\"The probability that the system will fail before 85 hrs is = \", x)"
   ]
  },
  {
   "cell_type": "code",
   "execution_count": 19,
   "id": "cbce3943",
   "metadata": {},
   "outputs": [
    {
     "name": "stdout",
     "output_type": "stream",
     "text": [
      "The probability that it will not fail up to 150 hrs is =  0.17126084522766882\n"
     ]
    }
   ],
   "source": [
    "#3.(b).\n",
    "\n",
    "MTBF = 85\n",
    "\n",
    "x = 150\n",
    "\n",
    "a = 1 - expon.cdf(x, 1/MTBF, MTBF)\n",
    "\n",
    "print(\"The probability that it will not fail up to 150 hrs is = \", a)"
   ]
  },
  {
   "cell_type": "code",
   "execution_count": null,
   "id": "b3a1039d",
   "metadata": {},
   "outputs": [],
   "source": []
  },
  {
   "cell_type": "markdown",
   "id": "254edf2b",
   "metadata": {},
   "source": [
    "4. As per a survey on use of pesticides among 1000 farmers in grape farming for around 10 acres of grape farmland, it was found that the grape farmers spray 38 liters of pesticides in a week on an average with the corresponding standard deviation of 5 liters. \n",
    "\n",
    "Assume that the pesticide spray per week follows a normal distribution. \n",
    "\n",
    "Write code to answer the following questions:\n",
    "\n",
    "    (a) What proportion of the farmers is spraying more than 50 liters of pesticide in a week?\n",
    "\n",
    "    (b) What proportion of farmers is spraying less than 10 liters?\n",
    "\n",
    "    (c) What proportion of farmers is spraying between 30 liters and 60 liters?"
   ]
  },
  {
   "cell_type": "code",
   "execution_count": 6,
   "id": "95d88faa",
   "metadata": {},
   "outputs": [
    {
     "name": "stdout",
     "output_type": "stream",
     "text": [
      "The proportion of the farmers spraying more than 50 liters of pesticide in a week is =  0.008197535924596155 %\n",
      "The number of farmers spraying less than 10 liters 8.197535924596156\n"
     ]
    }
   ],
   "source": [
    "#4.(a).\n",
    "\n",
    "from scipy.stats import norm\n",
    "\n",
    "mean = 38\n",
    "sd = 5\n",
    "x = 50\n",
    "\n",
    "a = 1-norm.cdf(x , mean, sd)\n",
    "n = a*1000\n",
    "\n",
    "print(\"The proportion of the farmers spraying more than 50 liters of pesticide in a week is = \", a, \"%\")\n",
    "print(\"The number of farmers spraying less than 10 liters\", n)"
   ]
  },
  {
   "cell_type": "code",
   "execution_count": 9,
   "id": "fb23f028",
   "metadata": {},
   "outputs": [
    {
     "name": "stdout",
     "output_type": "stream",
     "text": [
      "The proportion of farmers spraying less than 10 liters is =  3.3157459783261613e-09 %\n"
     ]
    }
   ],
   "source": [
    "#4.(b).\n",
    "\n",
    "from scipy.stats import norm\n",
    "\n",
    "mean = 38\n",
    "sd = 5\n",
    "x = 10-1\n",
    "\n",
    "a = norm.cdf(x , mean, sd)\n",
    "\n",
    "print(\"The proportion of farmers spraying less than 10 liters is = \", a, \"%\")"
   ]
  },
  {
   "cell_type": "code",
   "execution_count": 11,
   "id": "8d9a9aa3",
   "metadata": {},
   "outputs": [
    {
     "name": "stdout",
     "output_type": "stream",
     "text": [
      "The proportion of farmers is spraying between 30 liters and 60 liters is =  0.9451952957565343 %\n"
     ]
    }
   ],
   "source": [
    "#4.(c).\n",
    "\n",
    "from scipy.stats import norm\n",
    "\n",
    "mean = 38\n",
    "sd = 5\n",
    "x = 30\n",
    "y = 60\n",
    "\n",
    "a = norm.cdf(x , mean, sd)\n",
    "b = norm.cdf(y , mean, sd)\n",
    "\n",
    "c = (b - a)\n",
    "\n",
    "\n",
    "print(\"The proportion of farmers is spraying between 30 liters and 60 liters is = \", c, \"%\")"
   ]
  },
  {
   "cell_type": "code",
   "execution_count": null,
   "id": "5e9a8876",
   "metadata": {},
   "outputs": [],
   "source": []
  },
  {
   "cell_type": "markdown",
   "id": "58648c30",
   "metadata": {},
   "source": [
    "5. A bottle filling machine fills water into 5 liters (5000 cm3) bottles. The company wants to test the null hypothesis that the average amount of water filled by the machine into the bottle is at least5000 cm3. A random sample of 60 bottles coming out of the machine was selected and the exact contents of the selected bottles are recorded. The sample mean was 4,998.1 cm3. The population standard deviation is known from the experience to be 1.30 cm3. Assume that the population isnormally distributed with the standard deviation of 1.30 cm3. Write code to test the hypothesis at a of 5%. Explain the results."
   ]
  },
  {
   "cell_type": "code",
   "execution_count": 31,
   "id": "1e286511",
   "metadata": {},
   "outputs": [
    {
     "name": "stdout",
     "output_type": "stream",
     "text": [
      "The null hypothesis states that- H0: Population Mean >= 5000 cm3\n",
      "The alternative hypothesis states that- H1: Population Mean < 5000 cm3\n",
      "The null hypothesis is rejected\n"
     ]
    }
   ],
   "source": [
    "from scipy.stats import norm\n",
    "\n",
    "z_alpha = 1.645\n",
    "\n",
    "print(\"The null hypothesis states that- H0: Population Mean >= 5000 cm3\")\n",
    "print(\"The alternative hypothesis states that- H1: Population Mean < 5000 cm3\")\n",
    "\n",
    "def z_test(p_mean, p_sd, s_mean, s_size):\n",
    "        x = ((s_mean) - p_mean)/(p_sd/math.sqrt(s_size))\n",
    "        y = norm.cdf(x)\n",
    "        if x < z_alpha:\n",
    "            print(\"The null hypothesis is rejected\")\n",
    "        else:\n",
    "            print(\"The null hypothesis is accepted\")\n",
    "\n",
    "m = 5000\n",
    "n = 60\n",
    "s_sd = 1.30\n",
    "s_m = 4998.1\n",
    "\n",
    "z_test(m, s_sd, s_m, n)"
   ]
  },
  {
   "cell_type": "code",
   "execution_count": null,
   "id": "0b717678",
   "metadata": {},
   "outputs": [],
   "source": []
  },
  {
   "cell_type": "markdown",
   "id": "2d255d67",
   "metadata": {},
   "source": [
    "6. A fabric manufacturer would like to understand the proportion of defective fabrics they produce. His shop floor staffs have been stating that the percentage of defective is not more than 18%. He would like to test whether the claim made by his shop floor staff is correct. He picked up a random sample of 100 fabrics and found 22 defectives. Use α = 0.05 and write code to test the hypothesis that the percentage of defective components is less than 18%. "
   ]
  },
  {
   "cell_type": "code",
   "execution_count": 55,
   "id": "2b031e85",
   "metadata": {},
   "outputs": [
    {
     "name": "stdout",
     "output_type": "stream",
     "text": [
      "The null hypothesis states that- H0: Proportion of defective frabrics <= 18%\n",
      "The alternative hypothesis states that- H1: Proportion of defective frabrics > 18%\n",
      "The null hypothesis is rejected\n"
     ]
    }
   ],
   "source": [
    "from scipy.stats import ttest_rel\n",
    "\n",
    "p_mean = 18\n",
    "s_mean = 22\n",
    "s_size = 100\n",
    "alpha = 0.05\n",
    "\n",
    "print(\"The null hypothesis states that- H0: Proportion of defective frabrics <= 18%\")\n",
    "print(\"The alternative hypothesis states that- H1: Proportion of defective frabrics > 18%\")\n",
    "      \n",
    "p_frequency = [0]*100 \n",
    "s_frequency = [0]*100\n",
    "\n",
    "for i in range(0, p_mean):\n",
    "    p_frequency[i] = 1\n",
    "\n",
    "\n",
    "for i in range(0, s_mean):\n",
    "    s_frequency[i] = 1\n",
    "\n",
    "statistic, p_value = ttest_rel(s_frequency, p_frequency)\n",
    "\n",
    "if p_value < alpha:\n",
    "    print(\"The null hypothesis is rejected\")\n",
    "else:\n",
    "    print(\"The null hypothesis is accepted\")\n"
   ]
  },
  {
   "cell_type": "code",
   "execution_count": null,
   "id": "e6541942",
   "metadata": {},
   "outputs": [],
   "source": []
  },
  {
   "cell_type": "markdown",
   "id": "9aee4017",
   "metadata": {},
   "source": [
    "7. Suppose that the makers of ABC batteries want to demonstrate that their battery lasts an average of at least 60 min longer than their competitor brand. Two independent random samples of 100 batteries of each kind are selected from both the brands, and the batteries are used continuously. The sample average life of ABC is found to be 450 min. The average life of competitor batteries is368 min with the sample standard deviation of 82 min and 78 min, respectively. Frame a hypothesis and write the code to test ABC’s claim at 95% significance. "
   ]
  },
  {
   "cell_type": "code",
   "execution_count": 59,
   "id": "1f63d489",
   "metadata": {},
   "outputs": [
    {
     "name": "stdout",
     "output_type": "stream",
     "text": [
      "The null hypothesis states that- H0: mu1 = mu2\n",
      "The alternative hypothesis states that- H1: mu1 != mu2\n",
      "The null hypothesis is rejected\n"
     ]
    }
   ],
   "source": [
    "from scipy.stats import ttest_ind_from_stats\n",
    "\n",
    "print(\"The null hypothesis states that- H0: mu1 = mu2\")\n",
    "print(\"The alternative hypothesis states that- H1: mu1 != mu2\")\n",
    "\n",
    "n1 = 100\n",
    "n2 = 100\n",
    "mu1 = 450\n",
    "mu2 = 368\n",
    "sd1 = 82 \n",
    "sd2 = 78\n",
    "\n",
    "alpha = 0.05\n",
    "t_alpha = 1.945\n",
    "\n",
    "statistic, p_value = ttest_ind_from_stats(mu1, sd1, n1 , mu2, sd2, n2)\n",
    "\n",
    "if statistic > t_alpha:\n",
    "    print(\"The null hypothesis is rejected\")\n",
    "else:\n",
    "    print(\"The null hypothesis is accepted\")"
   ]
  }
 ],
 "metadata": {
  "kernelspec": {
   "display_name": "Python 3",
   "language": "python",
   "name": "python3"
  },
  "language_info": {
   "codemirror_mode": {
    "name": "ipython",
    "version": 3
   },
   "file_extension": ".py",
   "mimetype": "text/x-python",
   "name": "python",
   "nbconvert_exporter": "python",
   "pygments_lexer": "ipython3",
   "version": "3.8.8"
  }
 },
 "nbformat": 4,
 "nbformat_minor": 5
}
